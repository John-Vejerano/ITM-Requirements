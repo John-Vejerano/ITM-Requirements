{
 "cells": [
  {
   "cell_type": "code",
   "execution_count": 6,
   "id": "78de5ee7-e62d-43a0-8114-43aaf4795614",
   "metadata": {},
   "outputs": [
    {
     "name": "stdout",
     "output_type": "stream",
     "text": [
      "bn_ad_\n"
     ]
    }
   ],
   "source": [
    "def scytale_cipher(message, shift):\n",
    "    new_message = \"\"\n",
    "    while len(message) % shift != 0:\n",
    "        message+=\"_\"\n",
    "    for i in range(len(message)):\n",
    "        value = (i // shift) + (len(message) // shift) * (i % shift)\n",
    "        new_message += message[value]\n",
    "    return new_message\n",
    "print(scytale_cipher(\"band\",3))\n"
   ]
  },
  {
   "cell_type": "code",
   "execution_count": 9,
   "id": "52c00f41-886f-4716-a9fc-ceaa36c52949",
   "metadata": {},
   "outputs": [
    {
     "data": {
      "text/plain": [
       "'band__'"
      ]
     },
     "execution_count": 9,
     "metadata": {},
     "output_type": "execute_result"
    }
   ],
   "source": [
    "def scytale_decipher(message, shift):\n",
    "    old_order = list(range(len(message)))  \n",
    "    columns = [old_order[i:i+shift] for i in range(0, len(old_order), shift)]\n",
    "    zip_list = [j for j in zip(*columns)]\n",
    "    char = \"\"\n",
    "    new_list = range(len(zip_list[0]))\n",
    "    for i in range(len(zip_list)):\n",
    "        for j in range(len(zip_list[0])):\n",
    "            char += message[zip_list[i][j]]\n",
    "    return char\n",
    "scytale_decipher(\"bn_ad_\",3)"
   ]
  },
  {
   "cell_type": "code",
   "execution_count": 10,
   "id": "b4c3d8cc-d2d1-49e9-8e57-fbba30b0a399",
   "metadata": {},
   "outputs": [
    {
     "name": "stdout",
     "output_type": "stream",
     "text": [
      "followed by\n"
     ]
    }
   ],
   "source": [
    "def relationship_status(from_member, to_member, social_graph):    \n",
    "    following_list1 = social_graph[from_member][\"following\"]\n",
    "    following_list2 = social_graph[to_member][\"following\"]\n",
    "    relationship = \"\"\n",
    "    if to_member in following_list1:\n",
    "        if from_member in following_list2:\n",
    "            relationship +=\"friends\" \n",
    "        else:\n",
    "            relationship +=\"follower\"\n",
    "    elif from_member in following_list2:\n",
    "            relationship +=\"followed by\"\n",
    "    else:\n",
    "        relationship +=\"no relationship\"\n",
    "    return relationship\n",
    "\n",
    "print(relationship_status(\"@bongolpoc\",\"@chums\",{\n",
    "    \"@bongolpoc\":{\"first_name\":\"Joselito\",\n",
    "                  \"last_name\":\"Olpoc\",\n",
    "                  \"following\":[\n",
    "                  ]\n",
    "    },\n",
    "    \"@joaquin\":  {\"first_name\":\"Joaquin\",\n",
    "                  \"last_name\":\"Gonzales\",\n",
    "                  \"following\":[\n",
    "                      \"@chums\",\"@jobenilagan\"\n",
    "                  ]\n",
    "    },\n",
    "    \"@chums\" : {\"first_name\":\"Matthew\",\n",
    "                \"last_name\":\"Uy\",\n",
    "                \"following\":[\n",
    "                    \"@bongolpoc\",\"@miketan\",\"@rudyang\",\"@joeilagan\"\n",
    "                ]\n",
    "    },\n",
    "    \"@jobenilagan\":{\"first_name\":\"Joben\",\n",
    "                   \"last_name\":\"Ilagan\",\n",
    "                   \"following\":[\n",
    "                    \"@eeebeee\",\"@joeilagan\",\"@chums\",\"@joaquin\"\n",
    "                   ]\n",
    "    },\n",
    "    \"@joeilagan\":{\"first_name\":\"Joe\",\n",
    "                  \"last_name\":\"Ilagan\",\n",
    "                  \"following\":[\n",
    "                    \"@eeebeee\",\"@jobenilagan\",\"@chums\"\n",
    "                  ]\n",
    "    },\n",
    "    \"@eeebeee\":  {\"first_name\":\"Elizabeth\",\n",
    "                  \"last_name\":\"Ilagan\",\n",
    "                  \"following\":[\n",
    "                    \"@jobenilagan\",\"@joeilagan\"\n",
    "                  ]\n",
    "    },\n",
    "}))\n"
   ]
  },
  {
   "cell_type": "code",
   "execution_count": null,
   "id": "1718f5fd-80c8-4df4-b937-6ce13516beab",
   "metadata": {},
   "outputs": [],
   "source": []
  }
 ],
 "metadata": {
  "kernelspec": {
   "display_name": "Python 3 (ipykernel)",
   "language": "python",
   "name": "python3"
  },
  "language_info": {
   "codemirror_mode": {
    "name": "ipython",
    "version": 3
   },
   "file_extension": ".py",
   "mimetype": "text/x-python",
   "name": "python",
   "nbconvert_exporter": "python",
   "pygments_lexer": "ipython3",
   "version": "3.9.12"
  }
 },
 "nbformat": 4,
 "nbformat_minor": 5
}
